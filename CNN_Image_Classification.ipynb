{
  "nbformat": 4,
  "nbformat_minor": 0,
  "metadata": {
    "colab": {
      "provenance": []
    },
    "kernelspec": {
      "name": "python3",
      "display_name": "Python 3"
    },
    "language_info": {
      "name": "python"
    }
  },
  "cells": [
    {
      "cell_type": "code",
      "execution_count": 10,
      "metadata": {
        "id": "rNExfy3QumZ2"
      },
      "outputs": [],
      "source": [
        "import os\n",
        "import cv2\n",
        "import numpy as np\n",
        "import pandas as pd\n",
        "import matplotlib.pyplot as plt\n",
        "from sklearn.model_selection import train_test_split"
      ]
    },
    {
      "cell_type": "code",
      "source": [
        "!git clone https://github.com/jahidhasan17/ML-Assignment.git"
      ],
      "metadata": {
        "colab": {
          "base_uri": "https://localhost:8080/"
        },
        "id": "2aTlN3OZBcXA",
        "outputId": "87f2dfe4-6f10-43eb-8867-0b9d69da595e"
      },
      "execution_count": 11,
      "outputs": [
        {
          "output_type": "stream",
          "name": "stdout",
          "text": [
            "fatal: destination path 'ML-Assignment' already exists and is not an empty directory.\n"
          ]
        }
      ]
    },
    {
      "cell_type": "code",
      "source": [
        "data_dir = 'ML-Assignment/CNN_dataset/'\n",
        "categories = ['AbdomenCT', 'HeadCT', 'ChestCT', 'Hand', 'CXR']"
      ],
      "metadata": {
        "id": "P1_dGTU4BiU2"
      },
      "execution_count": 12,
      "outputs": []
    },
    {
      "cell_type": "code",
      "source": [
        "images = []\n",
        "labels = []\n",
        "class_names = ['HeadCT', 'ChestCT', 'AbdomenCT', 'Hand', 'CXR']\n",
        "\n",
        "\n",
        "for i, class_name in enumerate(class_names):\n",
        "    folder_path = os.path.join(data_dir, class_name)\n",
        "    for filename in os.listdir(folder_path):\n",
        "        img_path = os.path.join(folder_path, filename)\n",
        "        img = cv2.imread(img_path)\n",
        "        img = cv2.cvtColor(img, cv2.COLOR_BGR2RGB)\n",
        "        img = cv2.resize(img, (32, 32))\n",
        "        images.append(img)\n",
        "        labels.append(class_names.index(class_name))\n"
      ],
      "metadata": {
        "id": "Om2rsy2N2Dg_"
      },
      "execution_count": 13,
      "outputs": []
    },
    {
      "cell_type": "code",
      "source": [
        "# Convert to numpy arrays\n",
        "images = np.array(images)\n",
        "labels = np.array(labels)"
      ],
      "metadata": {
        "id": "t9N4qK803tT3"
      },
      "execution_count": 14,
      "outputs": []
    },
    {
      "cell_type": "code",
      "source": [
        "# Normalize pixel values\n",
        "images = images.astype('float32') / 255.0"
      ],
      "metadata": {
        "id": "SI2rD2xO3wR8"
      },
      "execution_count": 15,
      "outputs": []
    },
    {
      "cell_type": "code",
      "source": [
        "train_images, test_images, train_labels, test_labels = train_test_split(images, labels, test_size=0.3, random_state=42)"
      ],
      "metadata": {
        "id": "pAkrjhMOGtBX"
      },
      "execution_count": 22,
      "outputs": []
    },
    {
      "cell_type": "code",
      "source": [
        "# Balance the dataset\n",
        "class_counts = np.bincount(train_labels)\n",
        "max_count = np.max(class_counts)\n",
        "for i, count in enumerate(class_counts):\n",
        "    if count != max_count:\n",
        "        mask = train_labels == i\n",
        "        train_images = np.concatenate((train_images, train_images[mask]), axis=0)\n",
        "        train_labels = np.concatenate((train_labels, train_labels[mask]), axis=0)"
      ],
      "metadata": {
        "id": "XYiRyc-U35G1"
      },
      "execution_count": 23,
      "outputs": []
    },
    {
      "cell_type": "code",
      "source": [
        "from keras.models import Sequential\n",
        "from keras.layers import Conv2D, MaxPooling2D, Flatten, Dense, Dropout\n",
        "\n",
        "model = Sequential([\n",
        "    Conv2D(32, (3, 3), activation='relu', input_shape=(32, 32, 3)),\n",
        "    MaxPooling2D((2, 2)),\n",
        "    Conv2D(64, (3, 3), activation='relu'),\n",
        "    MaxPooling2D((2, 2)),\n",
        "    Conv2D(128, (3, 3), activation='relu'),\n",
        "    MaxPooling2D((2, 2)),\n",
        "    Flatten(),\n",
        "    Dense(128, activation='relu'),\n",
        "    Dropout(0.5),\n",
        "    Dense(len(class_names), activation='softmax')\n",
        "])"
      ],
      "metadata": {
        "id": "x6LUzSJG369u"
      },
      "execution_count": 25,
      "outputs": []
    },
    {
      "cell_type": "code",
      "source": [
        "model.compile(optimizer='adam',\n",
        "              loss='sparse_categorical_crossentropy',\n",
        "              metrics=['accuracy'])"
      ],
      "metadata": {
        "id": "madbHupJ5JK_"
      },
      "execution_count": 26,
      "outputs": []
    },
    {
      "cell_type": "code",
      "source": [
        "history = model.fit(train_images, train_labels, epochs=5, batch_size=32, validation_split=0.1)\n"
      ],
      "metadata": {
        "id": "-LZwOM7u5c8F",
        "colab": {
          "base_uri": "https://localhost:8080/"
        },
        "outputId": "cdecc780-8c03-4f6d-9130-e3edb417cfe7"
      },
      "execution_count": 27,
      "outputs": [
        {
          "output_type": "stream",
          "name": "stdout",
          "text": [
            "Epoch 1/5\n",
            "1772/1772 [==============================] - 93s 52ms/step - loss: 0.0785 - accuracy: 0.9743 - val_loss: 0.0228 - val_accuracy: 0.9930\n",
            "Epoch 2/5\n",
            "1772/1772 [==============================] - 89s 50ms/step - loss: 0.0173 - accuracy: 0.9953 - val_loss: 0.0120 - val_accuracy: 0.9965\n",
            "Epoch 3/5\n",
            "1772/1772 [==============================] - 90s 51ms/step - loss: 0.0100 - accuracy: 0.9973 - val_loss: 0.0110 - val_accuracy: 0.9954\n",
            "Epoch 4/5\n",
            "1772/1772 [==============================] - 87s 49ms/step - loss: 0.0058 - accuracy: 0.9984 - val_loss: 0.0047 - val_accuracy: 0.9989\n",
            "Epoch 5/5\n",
            "1772/1772 [==============================] - 91s 51ms/step - loss: 0.0046 - accuracy: 0.9986 - val_loss: 4.7335e-04 - val_accuracy: 0.9998\n"
          ]
        }
      ]
    },
    {
      "cell_type": "code",
      "source": [
        "test_loss, test_acc = model.evaluate(test_images, test_labels)\n",
        "print(f'Test loss: {test_loss:.4f}, Test accuracy: {test_acc:.4f}')"
      ],
      "metadata": {
        "id": "jzPC9wUl5e7-",
        "colab": {
          "base_uri": "https://localhost:8080/"
        },
        "outputId": "bcc2348e-bf0d-4c4f-ed24-47e4381d41e5"
      },
      "execution_count": 28,
      "outputs": [
        {
          "output_type": "stream",
          "name": "stdout",
          "text": [
            "469/469 [==============================] - 7s 14ms/step - loss: 0.0026 - accuracy: 0.9993\n",
            "Test loss: 0.0026, Test accuracy: 0.9993\n"
          ]
        }
      ]
    }
  ]
}